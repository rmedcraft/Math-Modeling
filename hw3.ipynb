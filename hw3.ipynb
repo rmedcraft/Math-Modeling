{
 "cells": [
  {
   "cell_type": "code",
   "execution_count": 2,
   "metadata": {},
   "outputs": [],
   "source": [
    "l = [14.5, 12.5, 17.25, 14.5, 12.625, 17.75, 14.125, 12.625]\n",
    "g = [9.75, 8.375, 11, 9.75, 8.5, 12.5, 9, 8.5]\n",
    "W = [27, 17, 41, 26, 17, 49, 23, 16]"
   ]
  },
  {
   "cell_type": "code",
   "execution_count": 3,
   "metadata": {},
   "outputs": [],
   "source": [
    "def sum(l: list):\n",
    "    sum = 0\n",
    "    for num in l:\n",
    "        sum += num\n",
    "    return sum"
   ]
  },
  {
   "cell_type": "code",
   "execution_count": 4,
   "metadata": {},
   "outputs": [
    {
     "name": "stdout",
     "output_type": "stream",
     "text": [
      "115.875\n",
      "77.375\n",
      "216\n"
     ]
    }
   ],
   "source": [
    "print(sum(l))\n",
    "print(sum(g))\n",
    "print(sum(W))"
   ]
  },
  {
   "cell_type": "code",
   "execution_count": 7,
   "metadata": {},
   "outputs": [
    {
     "name": "stdout",
     "output_type": "stream",
     "text": [
      "[37216.96875, 14904.8828125, 85577.25, 35838.5625, 15506.65625, 135898.4375, 26314.875, 14594.5]\n",
      "[1900003.7900390625, 768704.2617797852, 4356612.5625, 1900003.7900390625, 832029.0244140625, 7691955.56640625, 1309022.015625, 832029.0244140625]\n"
     ]
    }
   ],
   "source": [
    "lg2W = []\n",
    "l2g4 = []\n",
    "for i in range(len(l)):\n",
    "    lg2W.append(l[i] * g[i] * g[i] * W[i])\n",
    "    l2g4.append(l[i] ** 2 * g[i] ** 4)\n",
    "print(lg2W)\n",
    "print(l2g4)"
   ]
  },
  {
   "cell_type": "code",
   "execution_count": 9,
   "metadata": {},
   "outputs": [
    {
     "name": "stdout",
     "output_type": "stream",
     "text": [
      "0.018675110215167733\n"
     ]
    }
   ],
   "source": [
    "k = sum(lg2W) / sum(l2g4)\n",
    "print(k)"
   ]
  },
  {
   "cell_type": "code",
   "execution_count": null,
   "metadata": {},
   "outputs": [],
   "source": []
  }
 ],
 "metadata": {
  "kernelspec": {
   "display_name": "Python 3",
   "language": "python",
   "name": "python3"
  },
  "language_info": {
   "codemirror_mode": {
    "name": "ipython",
    "version": 3
   },
   "file_extension": ".py",
   "mimetype": "text/x-python",
   "name": "python",
   "nbconvert_exporter": "python",
   "pygments_lexer": "ipython3",
   "version": "3.13.1"
  }
 },
 "nbformat": 4,
 "nbformat_minor": 2
}
